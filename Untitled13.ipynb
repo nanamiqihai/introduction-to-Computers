{
  "nbformat": 4,
  "nbformat_minor": 0,
  "metadata": {
    "colab": {
      "provenance": [],
      "authorship_tag": "ABX9TyPDZlGBdaa6fxZaY5bz0KZ/",
      "include_colab_link": true
    },
    "kernelspec": {
      "name": "python3",
      "display_name": "Python 3"
    },
    "language_info": {
      "name": "python"
    }
  },
  "cells": [
    {
      "cell_type": "markdown",
      "metadata": {
        "id": "view-in-github",
        "colab_type": "text"
      },
      "source": [
        "<a href=\"https://colab.research.google.com/github/nanamiqihai/introduction-to-Computers/blob/main/Untitled13.ipynb\" target=\"_parent\"><img src=\"https://colab.research.google.com/assets/colab-badge.svg\" alt=\"Open In Colab\"/></a>"
      ]
    },
    {
      "cell_type": "code",
      "execution_count": 1,
      "metadata": {
        "colab": {
          "base_uri": "https://localhost:8080/"
        },
        "id": "u6dKtfz4tIWg",
        "outputId": "bef68fc8-8522-4cb1-de29-d982ca38a063"
      },
      "outputs": [
        {
          "output_type": "stream",
          "name": "stdout",
          "text": [
            "0515\n"
          ]
        }
      ],
      "source": [
        "print(\"0515\")"
      ]
    },
    {
      "cell_type": "code",
      "source": [
        "score = int(input(\"score:\"))\n",
        "if score >= 90:\n",
        "  print(\"A\")\n",
        "elif score >=80:\n",
        "  print(\"B\")\n",
        "elif score >=70:\n",
        "  print(\"C\")\n",
        "elif score >=60:\n",
        "  print(\"D\")\n",
        "elif score <=59:\n",
        "  print(\"E\")"
      ],
      "metadata": {
        "colab": {
          "base_uri": "https://localhost:8080/"
        },
        "id": "HfzMxpAut52i",
        "outputId": "f55c50b1-3ce9-45c5-c475-87f938bc7725"
      },
      "execution_count": 2,
      "outputs": [
        {
          "output_type": "stream",
          "name": "stdout",
          "text": [
            "score:55\n",
            "E\n"
          ]
        }
      ]
    },
    {
      "cell_type": "code",
      "source": [
        "s = int(input(\"體溫:\"))\n",
        "if s >= 37.5:\n",
        "  print(\"體溫過高\")\n",
        "elif s <= 37.4:\n",
        "  print(\"體溫略高\")\n",
        "elif s <= 36.9:\n",
        "  print(\"體溫正常\")\n",
        "elif s <= 39.9:\n",
        "  print(\"體溫異常、請重新量測\")"
      ],
      "metadata": {
        "colab": {
          "base_uri": "https://localhost:8080/",
          "height": 263
        },
        "id": "cREtSHexwPue",
        "outputId": "314d9e1c-74ed-4f0e-bcbb-6ad4e1ecceaf"
      },
      "execution_count": 25,
      "outputs": [
        {
          "name": "stdout",
          "output_type": "stream",
          "text": [
            "體溫:36.5\n"
          ]
        },
        {
          "output_type": "error",
          "ename": "ValueError",
          "evalue": "ignored",
          "traceback": [
            "\u001b[0;31m---------------------------------------------------------------------------\u001b[0m",
            "\u001b[0;31mValueError\u001b[0m                                Traceback (most recent call last)",
            "\u001b[0;32m<ipython-input-25-79f880c803cb>\u001b[0m in \u001b[0;36m<cell line: 1>\u001b[0;34m()\u001b[0m\n\u001b[0;32m----> 1\u001b[0;31m \u001b[0ms\u001b[0m \u001b[0;34m=\u001b[0m \u001b[0mint\u001b[0m\u001b[0;34m(\u001b[0m\u001b[0minput\u001b[0m\u001b[0;34m(\u001b[0m\u001b[0;34m\"體溫:\"\u001b[0m\u001b[0;34m)\u001b[0m\u001b[0;34m)\u001b[0m\u001b[0;34m\u001b[0m\u001b[0;34m\u001b[0m\u001b[0m\n\u001b[0m\u001b[1;32m      2\u001b[0m \u001b[0;32mif\u001b[0m \u001b[0ms\u001b[0m \u001b[0;34m>=\u001b[0m \u001b[0;36m37.5\u001b[0m\u001b[0;34m:\u001b[0m\u001b[0;34m\u001b[0m\u001b[0;34m\u001b[0m\u001b[0m\n\u001b[1;32m      3\u001b[0m   \u001b[0mprint\u001b[0m\u001b[0;34m(\u001b[0m\u001b[0;34m\"體溫過高\"\u001b[0m\u001b[0;34m)\u001b[0m\u001b[0;34m\u001b[0m\u001b[0;34m\u001b[0m\u001b[0m\n\u001b[1;32m      4\u001b[0m \u001b[0;32melif\u001b[0m \u001b[0ms\u001b[0m \u001b[0;34m<=\u001b[0m \u001b[0;36m37.4\u001b[0m\u001b[0;34m:\u001b[0m\u001b[0;34m\u001b[0m\u001b[0;34m\u001b[0m\u001b[0m\n\u001b[1;32m      5\u001b[0m   \u001b[0mprint\u001b[0m\u001b[0;34m(\u001b[0m\u001b[0;34m\"體溫略高\"\u001b[0m\u001b[0;34m)\u001b[0m\u001b[0;34m\u001b[0m\u001b[0;34m\u001b[0m\u001b[0m\n",
            "\u001b[0;31mValueError\u001b[0m: invalid literal for int() with base 10: '36.5'"
          ]
        }
      ]
    },
    {
      "cell_type": "code",
      "source": [
        "s = int(input(\"季節:\"))\n",
        "if s == 3 or 4 or 5:\n",
        "  print(\"s月是春天\")\n",
        "elif s == 6 or 7 or 8:\n",
        "  print(\"s月是夏天\")\n",
        "elif s == 9 or 10 or 11:\n",
        "  print(\"s月是秋天\")\n",
        "elif s == 12 or 1 or 2:\n",
        "  print(\"s月是冬天\")\n",
        "else:\n",
        "  print(\"月份不在範圍內\")"
      ],
      "metadata": {
        "colab": {
          "base_uri": "https://localhost:8080/"
        },
        "id": "fUI5C0FA4mz8",
        "outputId": "d2381922-3c5c-4a6a-f430-3ea2e6424754"
      },
      "execution_count": 22,
      "outputs": [
        {
          "output_type": "stream",
          "name": "stdout",
          "text": [
            "季節:8\n",
            "s月是春天\n"
          ]
        }
      ]
    },
    {
      "cell_type": "code",
      "source": [
        "s = int(input(\"請輸入今年收入浮額:\"))\n",
        "if s >=2000000: \n",
        "     print(\"付税金額\",s, \"元\")"
      ],
      "metadata": {
        "colab": {
          "base_uri": "https://localhost:8080/"
        },
        "id": "JM2KHEdk81o0",
        "outputId": "b3dd20b2-42fd-4a0e-ac16-65140b6a1097"
      },
      "execution_count": 23,
      "outputs": [
        {
          "output_type": "stream",
          "name": "stdout",
          "text": [
            "請輸入今年收入浮額:3000000\n",
            "付税金額 3000000 元\n"
          ]
        }
      ]
    },
    {
      "cell_type": "code",
      "source": [],
      "metadata": {
        "id": "-U6bzSIeAlPY"
      },
      "execution_count": null,
      "outputs": []
    }
  ]
}