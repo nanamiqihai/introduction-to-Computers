{
  "nbformat": 4,
  "nbformat_minor": 0,
  "metadata": {
    "colab": {
      "provenance": [],
      "authorship_tag": "ABX9TyNPHC63vzWbxdlMvo4gfg1n",
      "include_colab_link": true
    },
    "kernelspec": {
      "name": "python3",
      "display_name": "Python 3"
    },
    "language_info": {
      "name": "python"
    }
  },
  "cells": [
    {
      "cell_type": "markdown",
      "metadata": {
        "id": "view-in-github",
        "colab_type": "text"
      },
      "source": [
        "<a href=\"https://colab.research.google.com/github/nanamiqihai/introduction-to-Computers/blob/main/untitled14.ipynb\" target=\"_parent\"><img src=\"https://colab.research.google.com/assets/colab-badge.svg\" alt=\"Open In Colab\"/></a>"
      ]
    },
    {
      "cell_type": "code",
      "execution_count": null,
      "metadata": {
        "colab": {
          "base_uri": "https://localhost:8080/"
        },
        "id": "6e4SY-p8uS_f",
        "outputId": "5e5db7b1-b1dd-4b52-cf48-df06ed48df0d"
      },
      "outputs": [
        {
          "output_type": "stream",
          "name": "stdout",
          "text": [
            "happy\n",
            "happy\n",
            "happy\n",
            "happy\n",
            "happy\n",
            "happy\n",
            "happy\n",
            "happy\n",
            "happy\n"
          ]
        }
      ],
      "source": [
        "count = 0\n",
        "while count < 9:\n",
        "  print(\"happy\")\n",
        "  count += 1"
      ]
    },
    {
      "cell_type": "code",
      "source": [
        "for i in range(9):\n",
        "  print(\"happy\")"
      ],
      "metadata": {
        "colab": {
          "base_uri": "https://localhost:8080/"
        },
        "id": "mGpXw_vbu8ZV",
        "outputId": "12bfb6db-e4a6-4656-cdd7-461c62f57547"
      },
      "execution_count": null,
      "outputs": [
        {
          "output_type": "stream",
          "name": "stdout",
          "text": [
            "happy\n",
            "happy\n",
            "happy\n",
            "happy\n",
            "happy\n",
            "happy\n",
            "happy\n",
            "happy\n",
            "happy\n"
          ]
        }
      ]
    },
    {
      "cell_type": "code",
      "source": [
        "secret_number = 21\n",
        "\n",
        "print(\"猜猜看我的心理想的是哪個數字\")\n",
        "\n",
        "while int(input(\"請輸入一個數字\")) != secret_number:\n",
        "  print(\"猜錯了,再試一次\")\n",
        "\n",
        "print(\"恭喜你,猜對了\")"
      ],
      "metadata": {
        "colab": {
          "base_uri": "https://localhost:8080/"
        },
        "id": "j3xO_yTCvFX6",
        "outputId": "397856af-00d8-4154-c9a7-aa1ed55bd8bd"
      },
      "execution_count": null,
      "outputs": [
        {
          "output_type": "stream",
          "name": "stdout",
          "text": [
            "猜猜看我的心理想的是哪個數字\n",
            "請輸入一個數字21\n",
            "恭喜你,猜對了\n"
          ]
        }
      ]
    }
  ]
}